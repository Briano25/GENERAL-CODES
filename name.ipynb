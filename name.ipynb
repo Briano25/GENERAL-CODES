{
 "cells": [
  {
   "cell_type": "code",
   "execution_count": 1,
   "id": "29918575-4b92-46aa-89a4-fa6f665e12fb",
   "metadata": {},
   "outputs": [
    {
     "name": "stdout",
     "output_type": "stream",
     "text": [
      "195\n"
     ]
    }
   ],
   "source": [
    "n=13\n",
    "m=15\n",
    "print(n*m)"
   ]
  },
  {
   "cell_type": "code",
   "execution_count": null,
   "id": "523ffbf7-5f1d-4a96-9383-6fbdefcc1122",
   "metadata": {},
   "outputs": [],
   "source": []
  }
 ],
 "metadata": {
  "kernelspec": {
   "display_name": "Python 3 (ipykernel)",
   "language": "python",
   "name": "python3"
  },
  "language_info": {
   "codemirror_mode": {
    "name": "ipython",
    "version": 3
   },
   "file_extension": ".py",
   "mimetype": "text/x-python",
   "name": "python",
   "nbconvert_exporter": "python",
   "pygments_lexer": "ipython3",
   "version": "3.12.7"
  }
 },
 "nbformat": 4,
 "nbformat_minor": 5
}
