{
 "cells": [
  {
   "cell_type": "code",
   "execution_count": 1,
   "id": "fe8a45f9-cf43-4a6a-b85f-08c5d02a9020",
   "metadata": {},
   "outputs": [
    {
     "name": "stdout",
     "output_type": "stream",
     "text": [
      "Select operation:\n",
      "1. Add\n",
      "2. Subtract\n",
      "3. Multiply\n",
      "4. Divide\n"
     ]
    },
    {
     "name": "stdin",
     "output_type": "stream",
     "text": [
      "Enter choice (1/2/3/4):  1\n",
      "Enter first number:  50\n",
      "Enter second number:  90\n"
     ]
    },
    {
     "name": "stdout",
     "output_type": "stream",
     "text": [
      "50.0 + 90.0 = 140.0\n"
     ]
    }
   ],
   "source": [
    "def add(x, y):\n",
    "    return x + y\n",
    "\n",
    "def subtract(x, y):\n",
    "    return x - y\n",
    "\n",
    "def multiply(x, y):\n",
    "    return x * y\n",
    "\n",
    "def divide(x, y):\n",
    "    if y != 0:\n",
    "        return x / y\n",
    "    else:\n",
    "        return \"Error! Division by zero.\"\n",
    "\n",
    "print(\"Select operation:\")\n",
    "print(\"1. Add\")\n",
    "print(\"2. Subtract\")\n",
    "print(\"3. Multiply\")\n",
    "print(\"4. Divide\")\n",
    "\n",
    "choice = input(\"Enter choice (1/2/3/4): \")\n",
    "\n",
    "num1 = float(input(\"Enter first number: \"))\n",
    "num2 = float(input(\"Enter second number: \"))\n",
    "\n",
    "if choice == '1':\n",
    "    print(f\"{num1} + {num2} = {add(num1, num2)}\")\n",
    "elif choice == '2':\n",
    "    print(f\"{num1} - {num2} = {subtract(num1, num2)}\")\n",
    "elif choice == '3':\n",
    "    print(f\"{num1} * {num2} = {multiply(num1, num2)}\")\n",
    "elif choice == '4':\n",
    "    print(f\"{num1} / {num2} = {divide(num1, num2)}\")\n",
    "else:\n",
    "    print(\"Invalid input\")\n"
   ]
  },
  {
   "cell_type": "code",
   "execution_count": null,
   "id": "df961671-4d71-4837-adba-e3f18d39fd94",
   "metadata": {},
   "outputs": [],
   "source": []
  }
 ],
 "metadata": {
  "kernelspec": {
   "display_name": "Python 3 (ipykernel)",
   "language": "python",
   "name": "python3"
  },
  "language_info": {
   "codemirror_mode": {
    "name": "ipython",
    "version": 3
   },
   "file_extension": ".py",
   "mimetype": "text/x-python",
   "name": "python",
   "nbconvert_exporter": "python",
   "pygments_lexer": "ipython3",
   "version": "3.12.7"
  }
 },
 "nbformat": 4,
 "nbformat_minor": 5
}
